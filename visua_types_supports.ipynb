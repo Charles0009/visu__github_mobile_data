{
 "cells": [
  {
   "cell_type": "markdown",
   "metadata": {},
   "source": [
    "# Visualizing the types of supports used by mobile carriers in France  \n",
    "\n",
    "*Charles Laverdure - 26 July 2023*\n",
    "\n",
    "## Introduction \n",
    "\n",
    "\n",
    "## Librairies "
   ]
  },
  {
   "cell_type": "code",
   "execution_count": 16,
   "metadata": {},
   "outputs": [],
   "source": [
    "%reset\n",
    "import pandas as pd \n",
    "import numpy as np\n",
    "import geopandas as gpd\n",
    "import glob\n",
    "import os\n",
    "# import geodatasets\n",
    "import contextily as cx\n",
    "from PIL import Image, ImageDraw"
   ]
  },
  {
   "cell_type": "markdown",
   "metadata": {},
   "source": [
    "## Variables "
   ]
  },
  {
   "cell_type": "code",
   "execution_count": 17,
   "metadata": {},
   "outputs": [
    {
     "data": {
      "text/html": [
       "<div>\n",
       "<style scoped>\n",
       "    .dataframe tbody tr th:only-of-type {\n",
       "        vertical-align: middle;\n",
       "    }\n",
       "\n",
       "    .dataframe tbody tr th {\n",
       "        vertical-align: top;\n",
       "    }\n",
       "\n",
       "    .dataframe thead th {\n",
       "        text-align: right;\n",
       "    }\n",
       "</style>\n",
       "<table border=\"1\" class=\"dataframe\">\n",
       "  <thead>\n",
       "    <tr style=\"text-align: right;\">\n",
       "      <th></th>\n",
       "      <th>id</th>\n",
       "      <th>adm_lb_nom</th>\n",
       "      <th>sup_id</th>\n",
       "      <th>emr_lb_systeme</th>\n",
       "      <th>emr_dt</th>\n",
       "      <th>sta_nm_dpt</th>\n",
       "      <th>code_insee</th>\n",
       "      <th>generation</th>\n",
       "      <th>date_maj</th>\n",
       "      <th>sta_nm_anfr</th>\n",
       "      <th>...</th>\n",
       "      <th>tpo_id</th>\n",
       "      <th>adr_lb_lieu</th>\n",
       "      <th>adr_lb_add1</th>\n",
       "      <th>adr_lb_add2</th>\n",
       "      <th>adr_lb_add3</th>\n",
       "      <th>adr_nm_cp</th>\n",
       "      <th>com_cd_insee</th>\n",
       "      <th>coordonnees</th>\n",
       "      <th>coord</th>\n",
       "      <th>statut</th>\n",
       "    </tr>\n",
       "  </thead>\n",
       "  <tbody>\n",
       "    <tr>\n",
       "      <th>0</th>\n",
       "      <td>1</td>\n",
       "      <td>SFR</td>\n",
       "      <td>513700</td>\n",
       "      <td>LTE 1800</td>\n",
       "      <td>2016-12-20</td>\n",
       "      <td>031</td>\n",
       "      <td>31118</td>\n",
       "      <td>4G</td>\n",
       "      <td>2023-07-19</td>\n",
       "      <td>0312700486</td>\n",
       "      <td>...</td>\n",
       "      <td>65.0</td>\n",
       "      <td>LES HEBRAILS</td>\n",
       "      <td>RTE DE BOULOC</td>\n",
       "      <td>NaN</td>\n",
       "      <td>NaN</td>\n",
       "      <td>31620</td>\n",
       "      <td>31118</td>\n",
       "      <td>43.793333333333, 1.375555555556</td>\n",
       "      <td>43°47'36''N 1°22'32''E</td>\n",
       "      <td>En service</td>\n",
       "    </tr>\n",
       "    <tr>\n",
       "      <th>1</th>\n",
       "      <td>2</td>\n",
       "      <td>SFR</td>\n",
       "      <td>513700</td>\n",
       "      <td>GSM 900</td>\n",
       "      <td>2015-12-09</td>\n",
       "      <td>031</td>\n",
       "      <td>31118</td>\n",
       "      <td>2G</td>\n",
       "      <td>2023-07-19</td>\n",
       "      <td>0312700486</td>\n",
       "      <td>...</td>\n",
       "      <td>65.0</td>\n",
       "      <td>LES HEBRAILS</td>\n",
       "      <td>RTE DE BOULOC</td>\n",
       "      <td>NaN</td>\n",
       "      <td>NaN</td>\n",
       "      <td>31620</td>\n",
       "      <td>31118</td>\n",
       "      <td>43.793333333333, 1.375555555556</td>\n",
       "      <td>43°47'36''N 1°22'32''E</td>\n",
       "      <td>En service</td>\n",
       "    </tr>\n",
       "  </tbody>\n",
       "</table>\n",
       "<p>2 rows × 22 columns</p>\n",
       "</div>"
      ],
      "text/plain": [
       "   id adm_lb_nom  sup_id emr_lb_systeme      emr_dt sta_nm_dpt code_insee  \\\n",
       "0   1        SFR  513700       LTE 1800  2016-12-20        031      31118   \n",
       "1   2        SFR  513700        GSM 900  2015-12-09        031      31118   \n",
       "\n",
       "  generation    date_maj sta_nm_anfr  ...  tpo_id   adr_lb_lieu  \\\n",
       "0         4G  2023-07-19  0312700486  ...    65.0  LES HEBRAILS   \n",
       "1         2G  2023-07-19  0312700486  ...    65.0  LES HEBRAILS   \n",
       "\n",
       "     adr_lb_add1 adr_lb_add2 adr_lb_add3 adr_nm_cp com_cd_insee  \\\n",
       "0  RTE DE BOULOC         NaN         NaN     31620        31118   \n",
       "1  RTE DE BOULOC         NaN         NaN     31620        31118   \n",
       "\n",
       "                       coordonnees                   coord      statut  \n",
       "0  43.793333333333, 1.375555555556  43°47'36''N 1°22'32''E  En service  \n",
       "1  43.793333333333, 1.375555555556  43°47'36''N 1°22'32''E  En service  \n",
       "\n",
       "[2 rows x 22 columns]"
      ]
     },
     "metadata": {},
     "output_type": "display_data"
    }
   ],
   "source": [
    "correspondance_nature_support = pd.read_table('data/anfr/SUP_NATURE.txt', sep=';')\n",
    "df_aggregated = pd.read_csv('data/anfr/20230720150852_observatoire_2g_3g_4g.csv', sep=';')\n",
    "display(df_aggregated.head(2))"
   ]
  },
  {
   "cell_type": "code",
   "execution_count": 18,
   "metadata": {},
   "outputs": [
    {
     "data": {
      "text/html": [
       "<div>\n",
       "<style scoped>\n",
       "    .dataframe tbody tr th:only-of-type {\n",
       "        vertical-align: middle;\n",
       "    }\n",
       "\n",
       "    .dataframe tbody tr th {\n",
       "        vertical-align: top;\n",
       "    }\n",
       "\n",
       "    .dataframe thead th {\n",
       "        text-align: right;\n",
       "    }\n",
       "</style>\n",
       "<table border=\"1\" class=\"dataframe\">\n",
       "  <thead>\n",
       "    <tr style=\"text-align: right;\">\n",
       "      <th></th>\n",
       "      <th>sup_id</th>\n",
       "      <th>adm_lb_nom</th>\n",
       "      <th>emr_lb_systeme</th>\n",
       "      <th>emr_dt</th>\n",
       "      <th>code_insee</th>\n",
       "      <th>nat_id</th>\n",
       "      <th>sup_nm_haut</th>\n",
       "      <th>latitude</th>\n",
       "      <th>longitude</th>\n",
       "    </tr>\n",
       "    <tr>\n",
       "      <th>sta_nm_anfr</th>\n",
       "      <th></th>\n",
       "      <th></th>\n",
       "      <th></th>\n",
       "      <th></th>\n",
       "      <th></th>\n",
       "      <th></th>\n",
       "      <th></th>\n",
       "      <th></th>\n",
       "      <th></th>\n",
       "    </tr>\n",
       "  </thead>\n",
       "  <tbody>\n",
       "    <tr>\n",
       "      <th>0010990001</th>\n",
       "      <td>560273</td>\n",
       "      <td>FREE MOBILE</td>\n",
       "      <td>{LTE 1800, LTE 700, LTE 2600, UMTS 900, LTE 2100}</td>\n",
       "      <td>2011-08-26</td>\n",
       "      <td>01344</td>\n",
       "      <td>33</td>\n",
       "      <td>89.0</td>\n",
       "      <td>46.206944444444</td>\n",
       "      <td>5.206666666667</td>\n",
       "    </tr>\n",
       "    <tr>\n",
       "      <th>0010990002</th>\n",
       "      <td>891727</td>\n",
       "      <td>FREE MOBILE</td>\n",
       "      <td>{LTE 700, LTE 2600, LTE 2100, UMTS 900, LTE 1800}</td>\n",
       "      <td>2012-12-12</td>\n",
       "      <td>01053</td>\n",
       "      <td>38</td>\n",
       "      <td>27.5</td>\n",
       "      <td>46.202222222222</td>\n",
       "      <td>5.243055555556</td>\n",
       "    </tr>\n",
       "  </tbody>\n",
       "</table>\n",
       "</div>"
      ],
      "text/plain": [
       "             sup_id   adm_lb_nom  \\\n",
       "sta_nm_anfr                        \n",
       "0010990001   560273  FREE MOBILE   \n",
       "0010990002   891727  FREE MOBILE   \n",
       "\n",
       "                                                emr_lb_systeme     emr_dt  \\\n",
       "sta_nm_anfr                                                                 \n",
       "0010990001   {LTE 1800, LTE 700, LTE 2600, UMTS 900, LTE 2100} 2011-08-26   \n",
       "0010990002   {LTE 700, LTE 2600, LTE 2100, UMTS 900, LTE 1800} 2012-12-12   \n",
       "\n",
       "            code_insee  nat_id  sup_nm_haut         latitude        longitude  \n",
       "sta_nm_anfr                                                                    \n",
       "0010990001       01344      33         89.0  46.206944444444   5.206666666667  \n",
       "0010990002       01053      38         27.5  46.202222222222   5.243055555556  "
      ]
     },
     "metadata": {},
     "output_type": "display_data"
    },
    {
     "data": {
      "text/plain": [
       "(106232, 9)"
      ]
     },
     "metadata": {},
     "output_type": "display_data"
    }
   ],
   "source": [
    "df_major_ops = df_aggregated[df_aggregated['adm_lb_nom'].isin(['ORANGE', 'SFR', 'FREE MOBILE', 'BOUYGUES TELECOM'])]\n",
    "df_major_ops = df_major_ops[df_major_ops['statut'] == 'En service']\n",
    "df_major_ops = df_major_ops.drop(['id', 'sta_nm_dpt', 'date_maj', 'tpo_id', 'adr_lb_lieu', 'adr_lb_add1', 'adr_lb_add2', 'generation', 'adr_lb_add3', 'adr_nm_cp', 'com_cd_insee', 'coord', 'statut'], axis = 1)\n",
    "# discard rows where value of code_insee starts with 97\n",
    "df_major_ops = df_major_ops[~df_major_ops['code_insee'].str.startswith('97')]\n",
    "# transform coordonnees column into two columns (latitude and longitude)\n",
    "df_major_ops[['latitude', 'longitude']] = df_major_ops['coordonnees'].str.split(',', expand=True)\n",
    "df_major_ops = df_major_ops.drop(['coordonnees'], axis = 1)\n",
    "df_major_ops['emr_dt'] = pd.to_datetime(df_major_ops['emr_dt'], format='%Y-%m-%d')\n",
    "df_grouped = df_major_ops.groupby('sta_nm_anfr').agg({'sup_id': 'first', 'adm_lb_nom' : 'first', 'emr_lb_systeme': lambda x: set(list(x)), 'emr_dt': lambda x: min(x), 'code_insee': 'first', 'nat_id': 'first', 'sup_nm_haut': 'first', 'latitude': 'first', 'longitude': 'first'})\n",
    "display(df_grouped.head(2))\n",
    "display(df_grouped.shape)"
   ]
  },
  {
   "cell_type": "code",
   "execution_count": 19,
   "metadata": {},
   "outputs": [],
   "source": [
    "# rename the NAT_ID column in correspondance_nature_support to nat_id\n",
    "df_1 = correspondance_nature_support.rename(columns={'NAT_ID': 'nat_id'})\n",
    "# join the two dataframes on nat_id and NAT_ID\n",
    "df = df_grouped.merge(df_1, on='nat_id', how='left')\n",
    "df = df.drop(columns=['nat_id'])\n"
   ]
  },
  {
   "cell_type": "code",
   "execution_count": 30,
   "metadata": {},
   "outputs": [],
   "source": [
    "def display_value_counts(df_for_count):\n",
    "    value_count = df_for_count['NAT_LB_NOM'].value_counts(dropna=False)\n",
    "    display(value_count)"
   ]
  },
  {
   "cell_type": "code",
   "execution_count": 34,
   "metadata": {},
   "outputs": [],
   "source": [
    "def display_value_count_per_op(df_spe):\n",
    "    for op in ['ORANGE', 'SFR', 'FREE MOBILE', 'BOUYGUES TELECOM']:\n",
    "        print(op)\n",
    "        df_operateur = df_spe[df_spe['adm_lb_nom'] == op]\n",
    "        display_value_counts(df_operateur)\n",
    "        display(\"length: {}\".format(len(df_operateur)))\n",
    "        print('\\n\\n')\n",
    "        print('------------------')"
   ]
  },
  {
   "cell_type": "code",
   "execution_count": 35,
   "metadata": {},
   "outputs": [
    {
     "name": "stdout",
     "output_type": "stream",
     "text": [
      "ORANGE\n"
     ]
    },
    {
     "data": {
      "text/plain": [
       "Immeuble                                                                              341\n",
       "Bâtiment                                                                              187\n",
       "Intérieur sous-terrain                                                                156\n",
       "Tunnel                                                                                 29\n",
       "Pylône tubulaire                                                                        3\n",
       "Ouvrage d'art (pont, viaduc)                                                            3\n",
       "Monument religieux                                                                      2\n",
       "Pylône autostable                                                                       2\n",
       "Monument historique                                                                     2\n",
       "Intérieur galerie                                                                       2\n",
       "Ouvrage de signalisation (portique routier, panneau routier, panneau publicitaire)      1\n",
       "Pylône haubané                                                                          1\n",
       "Name: NAT_LB_NOM, dtype: int64"
      ]
     },
     "metadata": {},
     "output_type": "display_data"
    },
    {
     "data": {
      "text/plain": [
       "'length: 729'"
      ]
     },
     "metadata": {},
     "output_type": "display_data"
    },
    {
     "name": "stdout",
     "output_type": "stream",
     "text": [
      "\n",
      "\n",
      "\n",
      "------------------\n",
      "SFR\n"
     ]
    },
    {
     "data": {
      "text/plain": [
       "Immeuble                                                                              331\n",
       "Intérieur sous-terrain                                                                162\n",
       "Bâtiment                                                                               99\n",
       "Tunnel                                                                                 30\n",
       "Ouvrage de signalisation (portique routier, panneau routier, panneau publicitaire)     13\n",
       "Ouvrage d'art (pont, viaduc)                                                            6\n",
       "Monument historique                                                                     3\n",
       "Pylône tubulaire                                                                        2\n",
       "Mât béton                                                                               2\n",
       "Pylône autostable                                                                       1\n",
       "Mât métallique                                                                          1\n",
       "Monument religieux                                                                      1\n",
       "Intérieur galerie                                                                       1\n",
       "Name: NAT_LB_NOM, dtype: int64"
      ]
     },
     "metadata": {},
     "output_type": "display_data"
    },
    {
     "data": {
      "text/plain": [
       "'length: 652'"
      ]
     },
     "metadata": {},
     "output_type": "display_data"
    },
    {
     "name": "stdout",
     "output_type": "stream",
     "text": [
      "\n",
      "\n",
      "\n",
      "------------------\n",
      "FREE MOBILE\n"
     ]
    },
    {
     "data": {
      "text/plain": [
       "Immeuble                  411\n",
       "Bâtiment                  128\n",
       "Intérieur sous-terrain    118\n",
       "Tunnel                     14\n",
       "Pylône tubulaire            2\n",
       "Intérieur galerie           2\n",
       "Monument historique         1\n",
       "Mât                         1\n",
       "Name: NAT_LB_NOM, dtype: int64"
      ]
     },
     "metadata": {},
     "output_type": "display_data"
    },
    {
     "data": {
      "text/plain": [
       "'length: 677'"
      ]
     },
     "metadata": {},
     "output_type": "display_data"
    },
    {
     "name": "stdout",
     "output_type": "stream",
     "text": [
      "\n",
      "\n",
      "\n",
      "------------------\n",
      "BOUYGUES TELECOM\n"
     ]
    },
    {
     "data": {
      "text/plain": [
       "Immeuble                        521\n",
       "Bâtiment                        101\n",
       "Intérieur sous-terrain           85\n",
       "Tunnel                           22\n",
       "Pylône tubulaire                  3\n",
       "Ouvrage d'art (pont, viaduc)      1\n",
       "Pylône autostable                 1\n",
       "Intérieur galerie                 1\n",
       "Local technique                   1\n",
       "Mât                               1\n",
       "Name: NAT_LB_NOM, dtype: int64"
      ]
     },
     "metadata": {},
     "output_type": "display_data"
    },
    {
     "data": {
      "text/plain": [
       "'length: 737'"
      ]
     },
     "metadata": {},
     "output_type": "display_data"
    },
    {
     "name": "stdout",
     "output_type": "stream",
     "text": [
      "\n",
      "\n",
      "\n",
      "------------------\n"
     ]
    }
   ],
   "source": [
    "paris_data = df[df['code_insee'].str.startswith('75')]\n",
    "display_value_count_per_op(paris_data)"
   ]
  }
 ],
 "metadata": {
  "kernelspec": {
   "display_name": "base",
   "language": "python",
   "name": "python3"
  },
  "language_info": {
   "codemirror_mode": {
    "name": "ipython",
    "version": 3
   },
   "file_extension": ".py",
   "mimetype": "text/x-python",
   "name": "python",
   "nbconvert_exporter": "python",
   "pygments_lexer": "ipython3",
   "version": "3.9.16"
  },
  "orig_nbformat": 4
 },
 "nbformat": 4,
 "nbformat_minor": 2
}
