{
 "cells": [
  {
   "cell_type": "markdown",
   "metadata": {},
   "source": [
    "# Visualization of the types of supports used by mobile carriers in France  \n",
    "\n",
    "*Charles Laverdure - 26 July 2023*\n",
    "\n",
    "## Introduction \n",
    "\n",
    "\n",
    "## Librairies "
   ]
  },
  {
   "cell_type": "code",
   "execution_count": 4,
   "metadata": {},
   "outputs": [],
   "source": [
    "%reset\n",
    "import pandas as pd \n",
    "import numpy as np\n",
    "import geopandas as gpd\n",
    "import glob\n",
    "import os"
   ]
  },
  {
   "cell_type": "markdown",
   "metadata": {},
   "source": [
    "## Variables "
   ]
  },
  {
   "cell_type": "code",
   "execution_count": 6,
   "metadata": {},
   "outputs": [
    {
     "data": {
      "text/html": [
       "<div>\n",
       "<style scoped>\n",
       "    .dataframe tbody tr th:only-of-type {\n",
       "        vertical-align: middle;\n",
       "    }\n",
       "\n",
       "    .dataframe tbody tr th {\n",
       "        vertical-align: top;\n",
       "    }\n",
       "\n",
       "    .dataframe thead th {\n",
       "        text-align: right;\n",
       "    }\n",
       "</style>\n",
       "<table border=\"1\" class=\"dataframe\">\n",
       "  <thead>\n",
       "    <tr style=\"text-align: right;\">\n",
       "      <th></th>\n",
       "      <th>id</th>\n",
       "      <th>adm_lb_nom</th>\n",
       "      <th>sup_id</th>\n",
       "      <th>emr_lb_systeme</th>\n",
       "      <th>emr_dt</th>\n",
       "      <th>sta_nm_dpt</th>\n",
       "      <th>code_insee</th>\n",
       "      <th>generation</th>\n",
       "      <th>date_maj</th>\n",
       "      <th>sta_nm_anfr</th>\n",
       "      <th>...</th>\n",
       "      <th>tpo_id</th>\n",
       "      <th>adr_lb_lieu</th>\n",
       "      <th>adr_lb_add1</th>\n",
       "      <th>adr_lb_add2</th>\n",
       "      <th>adr_lb_add3</th>\n",
       "      <th>adr_nm_cp</th>\n",
       "      <th>com_cd_insee</th>\n",
       "      <th>coordonnees</th>\n",
       "      <th>coord</th>\n",
       "      <th>statut</th>\n",
       "    </tr>\n",
       "  </thead>\n",
       "  <tbody>\n",
       "    <tr>\n",
       "      <th>0</th>\n",
       "      <td>1</td>\n",
       "      <td>SFR</td>\n",
       "      <td>513700</td>\n",
       "      <td>LTE 1800</td>\n",
       "      <td>2016-12-20</td>\n",
       "      <td>031</td>\n",
       "      <td>31118</td>\n",
       "      <td>4G</td>\n",
       "      <td>2023-07-19</td>\n",
       "      <td>0312700486</td>\n",
       "      <td>...</td>\n",
       "      <td>65.0</td>\n",
       "      <td>LES HEBRAILS</td>\n",
       "      <td>RTE DE BOULOC</td>\n",
       "      <td>NaN</td>\n",
       "      <td>NaN</td>\n",
       "      <td>31620</td>\n",
       "      <td>31118</td>\n",
       "      <td>43.793333333333, 1.375555555556</td>\n",
       "      <td>43°47'36''N 1°22'32''E</td>\n",
       "      <td>En service</td>\n",
       "    </tr>\n",
       "    <tr>\n",
       "      <th>1</th>\n",
       "      <td>2</td>\n",
       "      <td>SFR</td>\n",
       "      <td>513700</td>\n",
       "      <td>GSM 900</td>\n",
       "      <td>2015-12-09</td>\n",
       "      <td>031</td>\n",
       "      <td>31118</td>\n",
       "      <td>2G</td>\n",
       "      <td>2023-07-19</td>\n",
       "      <td>0312700486</td>\n",
       "      <td>...</td>\n",
       "      <td>65.0</td>\n",
       "      <td>LES HEBRAILS</td>\n",
       "      <td>RTE DE BOULOC</td>\n",
       "      <td>NaN</td>\n",
       "      <td>NaN</td>\n",
       "      <td>31620</td>\n",
       "      <td>31118</td>\n",
       "      <td>43.793333333333, 1.375555555556</td>\n",
       "      <td>43°47'36''N 1°22'32''E</td>\n",
       "      <td>En service</td>\n",
       "    </tr>\n",
       "  </tbody>\n",
       "</table>\n",
       "<p>2 rows × 22 columns</p>\n",
       "</div>"
      ],
      "text/plain": [
       "   id adm_lb_nom  sup_id emr_lb_systeme      emr_dt sta_nm_dpt code_insee  \\\n",
       "0   1        SFR  513700       LTE 1800  2016-12-20        031      31118   \n",
       "1   2        SFR  513700        GSM 900  2015-12-09        031      31118   \n",
       "\n",
       "  generation    date_maj sta_nm_anfr  ...  tpo_id   adr_lb_lieu  \\\n",
       "0         4G  2023-07-19  0312700486  ...    65.0  LES HEBRAILS   \n",
       "1         2G  2023-07-19  0312700486  ...    65.0  LES HEBRAILS   \n",
       "\n",
       "     adr_lb_add1 adr_lb_add2 adr_lb_add3 adr_nm_cp com_cd_insee  \\\n",
       "0  RTE DE BOULOC         NaN         NaN     31620        31118   \n",
       "1  RTE DE BOULOC         NaN         NaN     31620        31118   \n",
       "\n",
       "                       coordonnees                   coord      statut  \n",
       "0  43.793333333333, 1.375555555556  43°47'36''N 1°22'32''E  En service  \n",
       "1  43.793333333333, 1.375555555556  43°47'36''N 1°22'32''E  En service  \n",
       "\n",
       "[2 rows x 22 columns]"
      ]
     },
     "metadata": {},
     "output_type": "display_data"
    }
   ],
   "source": [
    "df_aggregated = pd.read_csv('data/anfr/20230720150852_observatoire_2g_3g_4g.csv', sep=';')\n",
    "display(df_aggregated.head(2))"
   ]
  },
  {
   "cell_type": "markdown",
   "metadata": {},
   "source": [
    "## Code "
   ]
  },
  {
   "cell_type": "code",
   "execution_count": 15,
   "metadata": {},
   "outputs": [
    {
     "data": {
      "text/html": [
       "<div>\n",
       "<style scoped>\n",
       "    .dataframe tbody tr th:only-of-type {\n",
       "        vertical-align: middle;\n",
       "    }\n",
       "\n",
       "    .dataframe tbody tr th {\n",
       "        vertical-align: top;\n",
       "    }\n",
       "\n",
       "    .dataframe thead th {\n",
       "        text-align: right;\n",
       "    }\n",
       "</style>\n",
       "<table border=\"1\" class=\"dataframe\">\n",
       "  <thead>\n",
       "    <tr style=\"text-align: right;\">\n",
       "      <th></th>\n",
       "      <th>id</th>\n",
       "      <th>adm_lb_nom</th>\n",
       "      <th>sup_id</th>\n",
       "      <th>emr_lb_systeme</th>\n",
       "      <th>emr_dt</th>\n",
       "      <th>code_insee</th>\n",
       "      <th>generation</th>\n",
       "      <th>sta_nm_anfr</th>\n",
       "      <th>nat_id</th>\n",
       "      <th>sup_nm_haut</th>\n",
       "      <th>latitude</th>\n",
       "      <th>longitude</th>\n",
       "    </tr>\n",
       "  </thead>\n",
       "  <tbody>\n",
       "    <tr>\n",
       "      <th>0</th>\n",
       "      <td>1</td>\n",
       "      <td>SFR</td>\n",
       "      <td>513700</td>\n",
       "      <td>LTE 1800</td>\n",
       "      <td>2016-12-20</td>\n",
       "      <td>31118</td>\n",
       "      <td>4G</td>\n",
       "      <td>0312700486</td>\n",
       "      <td>23</td>\n",
       "      <td>46.5</td>\n",
       "      <td>43.793333333333</td>\n",
       "      <td>1.375555555556</td>\n",
       "    </tr>\n",
       "    <tr>\n",
       "      <th>1</th>\n",
       "      <td>2</td>\n",
       "      <td>SFR</td>\n",
       "      <td>513700</td>\n",
       "      <td>GSM 900</td>\n",
       "      <td>2015-12-09</td>\n",
       "      <td>31118</td>\n",
       "      <td>2G</td>\n",
       "      <td>0312700486</td>\n",
       "      <td>23</td>\n",
       "      <td>46.5</td>\n",
       "      <td>43.793333333333</td>\n",
       "      <td>1.375555555556</td>\n",
       "    </tr>\n",
       "  </tbody>\n",
       "</table>\n",
       "</div>"
      ],
      "text/plain": [
       "   id adm_lb_nom  sup_id emr_lb_systeme      emr_dt code_insee generation  \\\n",
       "0   1        SFR  513700       LTE 1800  2016-12-20      31118         4G   \n",
       "1   2        SFR  513700        GSM 900  2015-12-09      31118         2G   \n",
       "\n",
       "  sta_nm_anfr  nat_id  sup_nm_haut         latitude        longitude  \n",
       "0  0312700486      23         46.5  43.793333333333   1.375555555556  \n",
       "1  0312700486      23         46.5  43.793333333333   1.375555555556  "
      ]
     },
     "metadata": {},
     "output_type": "display_data"
    },
    {
     "data": {
      "text/plain": [
       "(515665, 12)"
      ]
     },
     "metadata": {},
     "output_type": "display_data"
    }
   ],
   "source": [
    "df_major_ops = df_aggregated[df_aggregated['adm_lb_nom'].isin(['ORANGE', 'SFR', 'FREE', 'BOUYGUES TELECOM'])]\n",
    "df_major_ops = df_major_ops.drop(['sta_nm_dpt', 'date_maj', 'tpo_id', 'adr_lb_lieu', 'adr_lb_add1', 'adr_lb_add2', 'adr_lb_add3', 'adr_nm_cp', 'com_cd_insee', 'coord', 'statut'], axis = 1)\n",
    "# transform coordonnees column into two columns (latitude and longitude)\n",
    "df_major_ops[['latitude', 'longitude']] = df_major_ops['coordonnees'].str.split(',', expand=True)\n",
    "df_major_ops = df_major_ops.drop(['coordonnees'], axis = 1)\n",
    "display(df_major_ops.head(2))\n",
    "display(df_major_ops.shape)"
   ]
  },
  {
   "cell_type": "code",
   "execution_count": null,
   "metadata": {},
   "outputs": [],
   "source": [
    "# group by sta_nm_anfr and set an aggregation function\n"
   ]
  }
 ],
 "metadata": {
  "kernelspec": {
   "display_name": "base",
   "language": "python",
   "name": "python3"
  },
  "language_info": {
   "codemirror_mode": {
    "name": "ipython",
    "version": 3
   },
   "file_extension": ".py",
   "mimetype": "text/x-python",
   "name": "python",
   "nbconvert_exporter": "python",
   "pygments_lexer": "ipython3",
   "version": "3.9.16"
  },
  "orig_nbformat": 4
 },
 "nbformat": 4,
 "nbformat_minor": 2
}
