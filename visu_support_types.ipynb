{
 "cells": [
  {
   "cell_type": "markdown",
   "metadata": {},
   "source": [
    "# Visualization of the types of supports used by mobile carriers in France  \n",
    "\n",
    "*Charles Laverdure - 26 July 2023*\n",
    "\n",
    "## Introduction \n",
    "\n",
    "\n",
    "## Librairies "
   ]
  },
  {
   "cell_type": "code",
   "execution_count": 2,
   "metadata": {},
   "outputs": [],
   "source": [
    "%reset\n",
    "import pandas as pd \n",
    "import numpy as np\n",
    "import geopandas as gpd\n",
    "import glob\n",
    "import os\n",
    "# import geodatasets\n",
    "import contextily as cx\n",
    "from PIL import Image, ImageDraw"
   ]
  },
  {
   "cell_type": "markdown",
   "metadata": {},
   "source": [
    "## Variables "
   ]
  },
  {
   "cell_type": "code",
   "execution_count": 3,
   "metadata": {},
   "outputs": [
    {
     "data": {
      "text/html": [
       "<div>\n",
       "<style scoped>\n",
       "    .dataframe tbody tr th:only-of-type {\n",
       "        vertical-align: middle;\n",
       "    }\n",
       "\n",
       "    .dataframe tbody tr th {\n",
       "        vertical-align: top;\n",
       "    }\n",
       "\n",
       "    .dataframe thead th {\n",
       "        text-align: right;\n",
       "    }\n",
       "</style>\n",
       "<table border=\"1\" class=\"dataframe\">\n",
       "  <thead>\n",
       "    <tr style=\"text-align: right;\">\n",
       "      <th></th>\n",
       "      <th>id</th>\n",
       "      <th>adm_lb_nom</th>\n",
       "      <th>sup_id</th>\n",
       "      <th>emr_lb_systeme</th>\n",
       "      <th>emr_dt</th>\n",
       "      <th>sta_nm_dpt</th>\n",
       "      <th>code_insee</th>\n",
       "      <th>generation</th>\n",
       "      <th>date_maj</th>\n",
       "      <th>sta_nm_anfr</th>\n",
       "      <th>...</th>\n",
       "      <th>tpo_id</th>\n",
       "      <th>adr_lb_lieu</th>\n",
       "      <th>adr_lb_add1</th>\n",
       "      <th>adr_lb_add2</th>\n",
       "      <th>adr_lb_add3</th>\n",
       "      <th>adr_nm_cp</th>\n",
       "      <th>com_cd_insee</th>\n",
       "      <th>coordonnees</th>\n",
       "      <th>coord</th>\n",
       "      <th>statut</th>\n",
       "    </tr>\n",
       "  </thead>\n",
       "  <tbody>\n",
       "    <tr>\n",
       "      <th>0</th>\n",
       "      <td>1</td>\n",
       "      <td>SFR</td>\n",
       "      <td>513700</td>\n",
       "      <td>LTE 1800</td>\n",
       "      <td>2016-12-20</td>\n",
       "      <td>031</td>\n",
       "      <td>31118</td>\n",
       "      <td>4G</td>\n",
       "      <td>2023-07-19</td>\n",
       "      <td>0312700486</td>\n",
       "      <td>...</td>\n",
       "      <td>65.0</td>\n",
       "      <td>LES HEBRAILS</td>\n",
       "      <td>RTE DE BOULOC</td>\n",
       "      <td>NaN</td>\n",
       "      <td>NaN</td>\n",
       "      <td>31620</td>\n",
       "      <td>31118</td>\n",
       "      <td>43.793333333333, 1.375555555556</td>\n",
       "      <td>43°47'36''N 1°22'32''E</td>\n",
       "      <td>En service</td>\n",
       "    </tr>\n",
       "    <tr>\n",
       "      <th>1</th>\n",
       "      <td>2</td>\n",
       "      <td>SFR</td>\n",
       "      <td>513700</td>\n",
       "      <td>GSM 900</td>\n",
       "      <td>2015-12-09</td>\n",
       "      <td>031</td>\n",
       "      <td>31118</td>\n",
       "      <td>2G</td>\n",
       "      <td>2023-07-19</td>\n",
       "      <td>0312700486</td>\n",
       "      <td>...</td>\n",
       "      <td>65.0</td>\n",
       "      <td>LES HEBRAILS</td>\n",
       "      <td>RTE DE BOULOC</td>\n",
       "      <td>NaN</td>\n",
       "      <td>NaN</td>\n",
       "      <td>31620</td>\n",
       "      <td>31118</td>\n",
       "      <td>43.793333333333, 1.375555555556</td>\n",
       "      <td>43°47'36''N 1°22'32''E</td>\n",
       "      <td>En service</td>\n",
       "    </tr>\n",
       "  </tbody>\n",
       "</table>\n",
       "<p>2 rows × 22 columns</p>\n",
       "</div>"
      ],
      "text/plain": [
       "   id adm_lb_nom  sup_id emr_lb_systeme      emr_dt sta_nm_dpt code_insee  \\\n",
       "0   1        SFR  513700       LTE 1800  2016-12-20        031      31118   \n",
       "1   2        SFR  513700        GSM 900  2015-12-09        031      31118   \n",
       "\n",
       "  generation    date_maj sta_nm_anfr  ...  tpo_id   adr_lb_lieu  \\\n",
       "0         4G  2023-07-19  0312700486  ...    65.0  LES HEBRAILS   \n",
       "1         2G  2023-07-19  0312700486  ...    65.0  LES HEBRAILS   \n",
       "\n",
       "     adr_lb_add1 adr_lb_add2 adr_lb_add3 adr_nm_cp com_cd_insee  \\\n",
       "0  RTE DE BOULOC         NaN         NaN     31620        31118   \n",
       "1  RTE DE BOULOC         NaN         NaN     31620        31118   \n",
       "\n",
       "                       coordonnees                   coord      statut  \n",
       "0  43.793333333333, 1.375555555556  43°47'36''N 1°22'32''E  En service  \n",
       "1  43.793333333333, 1.375555555556  43°47'36''N 1°22'32''E  En service  \n",
       "\n",
       "[2 rows x 22 columns]"
      ]
     },
     "metadata": {},
     "output_type": "display_data"
    }
   ],
   "source": [
    "df_aggregated = pd.read_csv('data/anfr/20230720150852_observatoire_2g_3g_4g.csv', sep=';')\n",
    "display(df_aggregated.head(2))"
   ]
  },
  {
   "cell_type": "markdown",
   "metadata": {},
   "source": [
    "## Code "
   ]
  },
  {
   "cell_type": "code",
   "execution_count": 4,
   "metadata": {},
   "outputs": [
    {
     "data": {
      "text/html": [
       "<div>\n",
       "<style scoped>\n",
       "    .dataframe tbody tr th:only-of-type {\n",
       "        vertical-align: middle;\n",
       "    }\n",
       "\n",
       "    .dataframe tbody tr th {\n",
       "        vertical-align: top;\n",
       "    }\n",
       "\n",
       "    .dataframe thead th {\n",
       "        text-align: right;\n",
       "    }\n",
       "</style>\n",
       "<table border=\"1\" class=\"dataframe\">\n",
       "  <thead>\n",
       "    <tr style=\"text-align: right;\">\n",
       "      <th></th>\n",
       "      <th>adm_lb_nom</th>\n",
       "      <th>sup_id</th>\n",
       "      <th>emr_lb_systeme</th>\n",
       "      <th>emr_dt</th>\n",
       "      <th>code_insee</th>\n",
       "      <th>generation</th>\n",
       "      <th>sta_nm_anfr</th>\n",
       "      <th>nat_id</th>\n",
       "      <th>sup_nm_haut</th>\n",
       "      <th>latitude</th>\n",
       "      <th>longitude</th>\n",
       "    </tr>\n",
       "  </thead>\n",
       "  <tbody>\n",
       "    <tr>\n",
       "      <th>0</th>\n",
       "      <td>SFR</td>\n",
       "      <td>513700</td>\n",
       "      <td>LTE 1800</td>\n",
       "      <td>2016-12-20</td>\n",
       "      <td>31118</td>\n",
       "      <td>4G</td>\n",
       "      <td>0312700486</td>\n",
       "      <td>23</td>\n",
       "      <td>46.5</td>\n",
       "      <td>43.793333333333</td>\n",
       "      <td>1.375555555556</td>\n",
       "    </tr>\n",
       "    <tr>\n",
       "      <th>1</th>\n",
       "      <td>SFR</td>\n",
       "      <td>513700</td>\n",
       "      <td>GSM 900</td>\n",
       "      <td>2015-12-09</td>\n",
       "      <td>31118</td>\n",
       "      <td>2G</td>\n",
       "      <td>0312700486</td>\n",
       "      <td>23</td>\n",
       "      <td>46.5</td>\n",
       "      <td>43.793333333333</td>\n",
       "      <td>1.375555555556</td>\n",
       "    </tr>\n",
       "  </tbody>\n",
       "</table>\n",
       "</div>"
      ],
      "text/plain": [
       "  adm_lb_nom  sup_id emr_lb_systeme      emr_dt code_insee generation  \\\n",
       "0        SFR  513700       LTE 1800  2016-12-20      31118         4G   \n",
       "1        SFR  513700        GSM 900  2015-12-09      31118         2G   \n",
       "\n",
       "  sta_nm_anfr  nat_id  sup_nm_haut         latitude        longitude  \n",
       "0  0312700486      23         46.5  43.793333333333   1.375555555556  \n",
       "1  0312700486      23         46.5  43.793333333333   1.375555555556  "
      ]
     },
     "metadata": {},
     "output_type": "display_data"
    },
    {
     "data": {
      "text/plain": [
       "(501446, 11)"
      ]
     },
     "metadata": {},
     "output_type": "display_data"
    }
   ],
   "source": [
    "df_major_ops = df_aggregated[df_aggregated['adm_lb_nom'].isin(['ORANGE', 'SFR', 'FREE MOBILE', 'BOUYGUES TELECOM'])]\n",
    "df_major_ops = df_major_ops[df_major_ops['statut'] == 'En service']\n",
    "df_major_ops = df_major_ops.drop(['id', 'sta_nm_dpt', 'date_maj', 'tpo_id', 'adr_lb_lieu', 'adr_lb_add1', 'adr_lb_add2', 'adr_lb_add3', 'adr_nm_cp', 'com_cd_insee', 'coord', 'statut'], axis = 1)\n",
    "# discard rows where value of code_insee starts with 97\n",
    "df_major_ops = df_major_ops[~df_major_ops['code_insee'].str.startswith('97')]\n",
    "# transform coordonnees column into two columns (latitude and longitude)\n",
    "df_major_ops[['latitude', 'longitude']] = df_major_ops['coordonnees'].str.split(',', expand=True)\n",
    "df_major_ops = df_major_ops.drop(['coordonnees'], axis = 1)\n",
    "display(df_major_ops.head(2))\n",
    "display(df_major_ops.shape)\n",
    "\n",
    "df_major_ops['emr_dt'] = pd.to_datetime(df_major_ops['emr_dt'], format='%Y-%m-%d')\n",
    "# display(df_major_ops.info())"
   ]
  },
  {
   "cell_type": "code",
   "execution_count": 5,
   "metadata": {},
   "outputs": [
    {
     "data": {
      "text/html": [
       "<div>\n",
       "<style scoped>\n",
       "    .dataframe tbody tr th:only-of-type {\n",
       "        vertical-align: middle;\n",
       "    }\n",
       "\n",
       "    .dataframe tbody tr th {\n",
       "        vertical-align: top;\n",
       "    }\n",
       "\n",
       "    .dataframe thead th {\n",
       "        text-align: right;\n",
       "    }\n",
       "</style>\n",
       "<table border=\"1\" class=\"dataframe\">\n",
       "  <thead>\n",
       "    <tr style=\"text-align: right;\">\n",
       "      <th></th>\n",
       "      <th>sup_id</th>\n",
       "      <th>adm_lb_nom</th>\n",
       "      <th>emr_lb_systeme</th>\n",
       "      <th>emr_dt</th>\n",
       "      <th>code_insee</th>\n",
       "      <th>generation</th>\n",
       "      <th>nat_id</th>\n",
       "      <th>sup_nm_haut</th>\n",
       "      <th>latitude</th>\n",
       "      <th>longitude</th>\n",
       "    </tr>\n",
       "    <tr>\n",
       "      <th>sta_nm_anfr</th>\n",
       "      <th></th>\n",
       "      <th></th>\n",
       "      <th></th>\n",
       "      <th></th>\n",
       "      <th></th>\n",
       "      <th></th>\n",
       "      <th></th>\n",
       "      <th></th>\n",
       "      <th></th>\n",
       "      <th></th>\n",
       "    </tr>\n",
       "  </thead>\n",
       "  <tbody>\n",
       "    <tr>\n",
       "      <th>0010990001</th>\n",
       "      <td>560273</td>\n",
       "      <td>FREE MOBILE</td>\n",
       "      <td>{LTE 1800, LTE 2600, LTE 2100, UMTS 900, LTE 700}</td>\n",
       "      <td>2011-08-26</td>\n",
       "      <td>01344</td>\n",
       "      <td>{4G, 3G}</td>\n",
       "      <td>33</td>\n",
       "      <td>89.0</td>\n",
       "      <td>46.206944444444</td>\n",
       "      <td>5.206666666667</td>\n",
       "    </tr>\n",
       "    <tr>\n",
       "      <th>0010990002</th>\n",
       "      <td>891727</td>\n",
       "      <td>FREE MOBILE</td>\n",
       "      <td>{LTE 1800, LTE 2600, LTE 2100, UMTS 900, LTE 700}</td>\n",
       "      <td>2012-12-12</td>\n",
       "      <td>01053</td>\n",
       "      <td>{4G, 3G}</td>\n",
       "      <td>38</td>\n",
       "      <td>27.5</td>\n",
       "      <td>46.202222222222</td>\n",
       "      <td>5.243055555556</td>\n",
       "    </tr>\n",
       "  </tbody>\n",
       "</table>\n",
       "</div>"
      ],
      "text/plain": [
       "             sup_id   adm_lb_nom  \\\n",
       "sta_nm_anfr                        \n",
       "0010990001   560273  FREE MOBILE   \n",
       "0010990002   891727  FREE MOBILE   \n",
       "\n",
       "                                                emr_lb_systeme     emr_dt  \\\n",
       "sta_nm_anfr                                                                 \n",
       "0010990001   {LTE 1800, LTE 2600, LTE 2100, UMTS 900, LTE 700} 2011-08-26   \n",
       "0010990002   {LTE 1800, LTE 2600, LTE 2100, UMTS 900, LTE 700} 2012-12-12   \n",
       "\n",
       "            code_insee generation  nat_id  sup_nm_haut         latitude  \\\n",
       "sta_nm_anfr                                                               \n",
       "0010990001       01344   {4G, 3G}      33         89.0  46.206944444444   \n",
       "0010990002       01053   {4G, 3G}      38         27.5  46.202222222222   \n",
       "\n",
       "                   longitude  \n",
       "sta_nm_anfr                   \n",
       "0010990001    5.206666666667  \n",
       "0010990002    5.243055555556  "
      ]
     },
     "metadata": {},
     "output_type": "display_data"
    },
    {
     "data": {
      "text/plain": [
       "(106232, 10)"
      ]
     },
     "metadata": {},
     "output_type": "display_data"
    }
   ],
   "source": [
    "df_grouped = df_major_ops.groupby('sta_nm_anfr').agg({'sup_id': 'first', 'adm_lb_nom' : 'first', 'emr_lb_systeme': lambda x: set(list(x)), 'emr_dt': lambda x: min(x), 'code_insee': 'first', 'generation' : lambda x: set(list(x)), 'nat_id': 'first', 'sup_nm_haut': 'first', 'latitude': 'first', 'longitude': 'first'})\n",
    "display(df_grouped.head(2))\n",
    "display(df_grouped.shape)"
   ]
  },
  {
   "cell_type": "code",
   "execution_count": 6,
   "metadata": {},
   "outputs": [],
   "source": [
    "# order the df by date\n",
    "df_grouped = df_grouped.sort_values(by=['emr_dt'])\n",
    "\n",
    "# divide the dataframe into 4 dataframes, one for each operator\n",
    "df_orange = df_grouped[df_grouped['adm_lb_nom'] == 'ORANGE']\n",
    "df_sfr = df_grouped[df_grouped['adm_lb_nom'] == 'SFR']\n",
    "df_free = df_grouped[df_grouped['adm_lb_nom'] == 'FREE MOBILE']\n",
    "df_bouygues = df_grouped[df_grouped['adm_lb_nom'] == 'BOUYGUES TELECOM']"
   ]
  },
  {
   "cell_type": "code",
   "execution_count": 7,
   "metadata": {},
   "outputs": [
    {
     "data": {
      "text/plain": [
       "29799"
      ]
     },
     "metadata": {},
     "output_type": "display_data"
    },
    {
     "data": {
      "text/plain": [
       "25655"
      ]
     },
     "metadata": {},
     "output_type": "display_data"
    },
    {
     "data": {
      "text/plain": [
       "24967"
      ]
     },
     "metadata": {},
     "output_type": "display_data"
    },
    {
     "data": {
      "text/plain": [
       "25811"
      ]
     },
     "metadata": {},
     "output_type": "display_data"
    }
   ],
   "source": [
    "display(len(df_orange)) \n",
    "display(len(df_sfr))\n",
    "display(len(df_free))\n",
    "display(len(df_bouygues))"
   ]
  },
  {
   "cell_type": "code",
   "execution_count": 12,
   "metadata": {},
   "outputs": [],
   "source": [
    "# plotting \n",
    "france = gpd.read_file('data/france.shp')\n",
    "\n",
    "# transform the df into a geodataframe\n",
    "gdf_orange = gpd.GeoDataFrame(df_orange, geometry=gpd.points_from_xy(df_orange.longitude, df_orange.latitude), crs=\"EPSG:4326\")\n",
    "# df_wm_orange = gdf_orange.to_crs(epsg=3857)\n",
    "gdf_sfr = gpd.GeoDataFrame(df_sfr, geometry=gpd.points_from_xy(df_sfr.longitude, df_sfr.latitude), crs=\"EPSG:4326\")\n",
    "# df_wm_sfr = gdf_sfr.to_crs(epsg=3857)\n",
    "gdf_free = gpd.GeoDataFrame(df_free, geometry=gpd.points_from_xy(df_free.longitude, df_free.latitude), crs=\"EPSG:4326\")\n",
    "# df_wm_free = gdf_free.to_crs(epsg=3857)\n",
    "gdf_bouygues = gpd.GeoDataFrame(df_bouygues, geometry=gpd.points_from_xy(df_bouygues.longitude, df_bouygues.latitude), crs=\"EPSG:4326\")\n",
    "# df_wm_bouygues = gdf_bouygues.to_crs(epsg=3857)\n",
    "\n",
    "list_of_dfs = [gdf_orange, gdf_sfr, gdf_free, gdf_bouygues]\n"
   ]
  },
  {
   "cell_type": "code",
   "execution_count": 13,
   "metadata": {},
   "outputs": [],
   "source": [
    "def plot(date, df, operateur):\n",
    "    base = france.plot(figsize=(14, 12), edgecolor=\"k\", color= 'none', linewidth=0.5)\n",
    "    df.plot(ax = base, alpha=1, edgecolor=\"k\", color='orange', markersize=3, linewidth=0.1)\n",
    "    cx.add_basemap(base, source = cx.providers.CartoDB.Positron, crs=\"EPSG:4326\")\n",
    "    base.set_axis_off()\n",
    "    title = operateur + ' - ' + str(date)[:4]\n",
    "    base.set_title(title, fontsize=20)\n",
    "    base.get_figure().savefig('images/' + operateur + '/' + operateur + str(date)[:10] + '.png', bbox_inches='tight', pad_inches=0, dpi=300)\n",
    "    base.get_figure().clf()\n",
    "    \n",
    "    "
   ]
  },
  {
   "cell_type": "code",
   "execution_count": 17,
   "metadata": {},
   "outputs": [],
   "source": [
    "def make_gif(frame_folder):\n",
    "    frames = [Image.open(image) for image in glob.glob(f\"{frame_folder}/*.png\")]\n",
    "    frame_one = frames[0]\n",
    "    frame_one.save(\"orange.gif\", format=\"GIF\", append_images=frames,\n",
    "               save_all=True, duration=200, loop=6)\n",
    "    "
   ]
  },
  {
   "cell_type": "code",
   "execution_count": null,
   "metadata": {},
   "outputs": [],
   "source": [
    "# create a loop that goes through the years of gdf_orange and plots the corresponding map\n",
    "liste_names = ['orange', 'sfr', 'free', 'bouygues']\n",
    "for df in list_of_dfs:\n",
    "    operateur = liste_names[list_of_dfs.index(df)]\n",
    "    for date in df['emr_dt'].dt.year.unique():\n",
    "        date = pd.to_datetime(str(date), format='%Y')\n",
    "        gdf_before = df[df['emr_dt'] < date]\n",
    "        image = plot(date, gdf_before)\n",
    "    \n",
    "    make_gif('images/' + operateur)"
   ]
  },
  {
   "cell_type": "code",
   "execution_count": 18,
   "metadata": {},
   "outputs": [],
   "source": [
    "make_gif('images')"
   ]
  }
 ],
 "metadata": {
  "kernelspec": {
   "display_name": "base",
   "language": "python",
   "name": "python3"
  },
  "language_info": {
   "codemirror_mode": {
    "name": "ipython",
    "version": 3
   },
   "file_extension": ".py",
   "mimetype": "text/x-python",
   "name": "python",
   "nbconvert_exporter": "python",
   "pygments_lexer": "ipython3",
   "version": "3.9.16"
  },
  "orig_nbformat": 4
 },
 "nbformat": 4,
 "nbformat_minor": 2
}
